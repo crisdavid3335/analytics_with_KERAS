{
 "cells": [
  {
   "cell_type": "markdown",
   "metadata": {},
   "source": [
    "# Clasificación de textos usando Naive Bayes\n",
    "\n",
    "Este clasificador no considera la relación entre las palabras. Este clasificador ingenuo considera simultáneamente todas las características.\n",
    "\n",
    "## Definición del problema\n",
    "\n",
    "Este proyecto es un clasificador de mensajes de texto, debe permitir determinar si un mensje es válido o spam. Este es un problema típico de minería de texto. Desde el punto de vista de un negocio, la recepción de publicidad no deseada y mensajes fraudulentos es un problema que afecta a los usuarios; y es por ello, que las compañias desean filtrar este tipo de mensajes con el fin de evitar el consumo de espacio en su infraestrructura y la molestia para el usuario.\n",
    "\n",
    "Se tiene una muestra conformada por los siguientes mensajes:\n",
    "\n",
    "|#| Tipo|    Mensaje| \n",
    "|--|:------:|-------------:|\n",
    "|1 |  spam  |  w1 w3       |\n",
    "|2 |  spam  |  w1 w2 w1 w3 |\n",
    "|3 |  ham   |  w2 w4       |\n",
    "|4 |  ham   |  w4 w5 w2    |\n",
    "|5 |  ham   |  w2 w4 w2    |\n",
    "\n",
    "Este modelo supone que algunas palabras son más frecuentes según el tipo de mensaje."
   ]
  },
  {
   "cell_type": "markdown",
   "metadata": {},
   "source": [
    "## Probabilidad\n",
    "\n",
    "Se sabe que si $X_i$ es una variable aleatoria:\n",
    "\n",
    "- su probabilidad de ocurrencia esta entre 0 y 1:\n",
    "$$ 0 \\leq Pr(X_i) \\leq 1$$\n",
    "\n",
    "- las probabilidades de los eventos mutuamente excluyentes deben sumar la unidad:\n",
    "$$ \\sum_{i=1}^n Pr(X_i) = 1 $$\n",
    "\n",
    "- esto se puede escribir como:\n",
    "$$ X_i = \\left(X_1, X_2, X_3, ... X_n \\right) $$\n",
    "$$ Pr(X_1) + Pr(X_2) + Pr(X_3) + ... + Pr(X_n) = 1 $$\n",
    "\n",
    "## Probabilidad conjunta\n",
    "\n",
    "Es la probabilidad de que dos eventos ocurran simultaneamente, es decir:\n",
    "$$ Pr(X_1 \\: and \\: X_2) $$ \n",
    "\n",
    "## Probabilidad condicional\n",
    "\n",
    "Es la probabilidad de que ocurra un evento sabiendo que otro ya ocurrio, es decir:\n",
    "$$ Pr(X_2 | X_1) = Pr(X_1 \\: and \\: X_2)/Pr(X_1)$$\n",
    "\n",
    "En otras palabras,\n",
    "$$ Pr(A|B) * Pr(B) = Pr(A\\: and \\: B) $$\n",
    "\n",
    "para dos eventos A y B.\n",
    "\n",
    "## Independencia\n",
    "\n",
    "Si los eventos son independientes, la probabilidad condicional del evento A dado que ocurrio el evento B es igual a la probabilidad del evento A, es decir:\n",
    "$$ Pr(A|B) = Pr(A) $$\n",
    "\n",
    "De la definición de probabilidad condicional:\n",
    "$$ Pr(A|B) = Pr(A) = \\frac{Pr(A \\: and \\: B)}{Pr(B)} $$\n",
    "\n",
    "Entonces, para eventos independientes:\n",
    "$$ Pr(A\\:and\\:B) = Pr(A) * Pr(B) $$\n",
    "\n",
    "## Probabilidad marginal\n",
    "\n",
    "Para un conjunto de eventos mutuamente exclusivos y colectivamente exhaustivos. La probabilidad de un evento A es:\n",
    "$$ Pr(A) = \\sum_{i=1}^{n}{Pr(A\\:and\\:X_i)} $$\n",
    "\n",
    "# Unión \n",
    "\n",
    "Para dos eventos A y B:\n",
    "$$ Pr(A\\:or\\:B) = Pr(A) +Pr(B) - Pr(A\\:and\\:B) $$\n",
    "\n",
    "## Complemento\n",
    "$$ Pr(\\sim A) = 1-Pr(A) $$\n",
    "\n",
    "## Probabilidad total\n",
    "$$ Pr(A)=Pr(A\\:and\\:B) + Pr(A\\:and\\:\\sim B) $$\n",
    "\n",
    "Esto puede expresarse como:\n",
    "$$ Pr(A)=Pr(A|B) Pr(B) +Pr(A|\\sim B)Pr(\\sim B) $$\n",
    "\n",
    "## Teorema de Bayes\n",
    "\n",
    "A partir de las definiciones anteriores:\n",
    "$$ Pr(B|A) = \\frac{Pr(A|B)Pr(B)}{Pr(A)} = \\frac{Pr(A|B)Pr(B)}{Pr(A|B)Pr(B)+Pr(A|\\sim B)Pr(\\sim B)} $$\n",
    "\n",
    "# Planteamiento del problema\n",
    "\n",
    "En este problema existen dos posibles eventos; que un correo sea \"Spam\" (o 1) y por otro lado \"No Spam\" (o 0), dos eventos que son mutuamente excluyentes y colectivamente exhaustivos. Dado que el analisis se realizara por las palabras que el mensaje contenga $w_n = (w_1, w_2, w_3 ... w_n)$. La probabilidad de que un mensaje sea \"Spam\" dado que contiene la palabra $w_1$ es:\n",
    "$$ Pr(Spam|w_1) = \\frac{Pr(w_1|Spam)*Pr(Spam)}{Pr(w_1)} $$\n",
    "\n",
    "donde:\n",
    "- $ Pr(Spam | w_1) $ es la probabilidad posterior.\n",
    "- $ Pr(w_1|Spam) $ es la verosilimitud.\n",
    "- $ Pr(Spam) $ es la probabilidad prior.\n",
    "- $ Pr(w_1) $ es la verosilimitud marginal.\n",
    "\n",
    "de aquí y en aplicación de las ecuaciones anteriores podemos entender y crear un clasificador en Pyton:\n"
   ]
  },
  {
   "cell_type": "code",
   "execution_count": 1,
   "metadata": {},
   "outputs": [],
   "source": [
    "# Importamos las líbrerias\n",
    "import numpy as np\n",
    "import pandas as pd\n",
    "from imblearn.over_sampling import SMOTE\n",
    "from sklearn.feature_extraction.text import CountVectorizer\n",
    "from sklearn.metrics import (ConfusionMatrixDisplay, accuracy_score,\n",
    "                             confusion_matrix)\n",
    "from sklearn.model_selection import train_test_split\n",
    "from sklearn.naive_bayes import BernoulliNB\n"
   ]
  },
  {
   "cell_type": "code",
   "execution_count": 2,
   "metadata": {},
   "outputs": [
    {
     "data": {
      "text/html": [
       "<div>\n",
       "<style scoped>\n",
       "    .dataframe tbody tr th:only-of-type {\n",
       "        vertical-align: middle;\n",
       "    }\n",
       "\n",
       "    .dataframe tbody tr th {\n",
       "        vertical-align: top;\n",
       "    }\n",
       "\n",
       "    .dataframe thead th {\n",
       "        text-align: right;\n",
       "    }\n",
       "</style>\n",
       "<table border=\"1\" class=\"dataframe\">\n",
       "  <thead>\n",
       "    <tr style=\"text-align: right;\">\n",
       "      <th></th>\n",
       "      <th>email</th>\n",
       "      <th>label</th>\n",
       "    </tr>\n",
       "  </thead>\n",
       "  <tbody>\n",
       "    <tr>\n",
       "      <th>0</th>\n",
       "      <td>date wed NUMBER aug NUMBER NUMBER NUMBER NUMB...</td>\n",
       "      <td>0</td>\n",
       "    </tr>\n",
       "    <tr>\n",
       "      <th>1</th>\n",
       "      <td>martin a posted tassos papadopoulos the greek ...</td>\n",
       "      <td>0</td>\n",
       "    </tr>\n",
       "    <tr>\n",
       "      <th>2</th>\n",
       "      <td>man threatens explosion in moscow thursday aug...</td>\n",
       "      <td>0</td>\n",
       "    </tr>\n",
       "    <tr>\n",
       "      <th>3</th>\n",
       "      <td>klez the virus that won t die already the most...</td>\n",
       "      <td>0</td>\n",
       "    </tr>\n",
       "    <tr>\n",
       "      <th>4</th>\n",
       "      <td>in adding cream to spaghetti carbonara which ...</td>\n",
       "      <td>0</td>\n",
       "    </tr>\n",
       "  </tbody>\n",
       "</table>\n",
       "</div>"
      ],
      "text/plain": [
       "                                               email  label\n",
       "0   date wed NUMBER aug NUMBER NUMBER NUMBER NUMB...      0\n",
       "1  martin a posted tassos papadopoulos the greek ...      0\n",
       "2  man threatens explosion in moscow thursday aug...      0\n",
       "3  klez the virus that won t die already the most...      0\n",
       "4   in adding cream to spaghetti carbonara which ...      0"
      ]
     },
     "execution_count": 2,
     "metadata": {},
     "output_type": "execute_result"
    }
   ],
   "source": [
    "# Cargamos el dataset y lo mostramos\n",
    "data = pd.read_csv(\n",
    "    \"C:/Users/crisd/OneDrive/Escritorio/libros/project/spam_or_not_spam.csv\")\n",
    "\n",
    "# Eliminamos los mensajes vacios o no clasificados\n",
    "data = data.dropna()\n",
    "data.head()\n"
   ]
  },
  {
   "cell_type": "code",
   "execution_count": 3,
   "metadata": {},
   "outputs": [
    {
     "name": "stdout",
     "output_type": "stream",
     "text": [
      "<class 'pandas.core.frame.DataFrame'>\n",
      "Int64Index: 2999 entries, 0 to 2999\n",
      "Data columns (total 2 columns):\n",
      " #   Column  Non-Null Count  Dtype \n",
      "---  ------  --------------  ----- \n",
      " 0   email   2999 non-null   object\n",
      " 1   label   2999 non-null   int64 \n",
      "dtypes: int64(1), object(1)\n",
      "memory usage: 70.3+ KB\n"
     ]
    }
   ],
   "source": [
    "# Revisamos el dataset\n",
    "data.info()\n"
   ]
  },
  {
   "cell_type": "code",
   "execution_count": 4,
   "metadata": {},
   "outputs": [
    {
     "data": {
      "text/plain": [
       "0        date wed NUMBER aug NUMBER NUMBER NUMBER NUMB...\n",
       "1       martin a posted tassos papadopoulos the greek ...\n",
       "2       man threatens explosion in moscow thursday aug...\n",
       "3       klez the virus that won t die already the most...\n",
       "4        in adding cream to spaghetti carbonara which ...\n",
       "                              ...                        \n",
       "2995     abc s good morning america ranks it the NUMBE...\n",
       "2996     hyperlink hyperlink hyperlink let mortgage le...\n",
       "2997     thank you for shopping with us gifts for all ...\n",
       "2998     the famous ebay marketing e course learn to s...\n",
       "2999     hello this is chinese traditional 子 件 NUMBER世...\n",
       "Name: email, Length: 2999, dtype: object"
      ]
     },
     "execution_count": 4,
     "metadata": {},
     "output_type": "execute_result"
    }
   ],
   "source": [
    "# Mostramos el texto de los mensajes\n",
    "data.email\n"
   ]
  },
  {
   "cell_type": "code",
   "execution_count": 5,
   "metadata": {},
   "outputs": [
    {
     "data": {
      "text/plain": [
       "0    2500\n",
       "1     499\n",
       "Name: label, dtype: int64"
      ]
     },
     "execution_count": 5,
     "metadata": {},
     "output_type": "execute_result"
    }
   ],
   "source": [
    "# Mostramos las categorías de los mensajes\n",
    "data.label.value_counts()\n"
   ]
  },
  {
   "cell_type": "code",
   "execution_count": 6,
   "metadata": {},
   "outputs": [
    {
     "data": {
      "text/plain": [
       "(2999, 34116)"
      ]
     },
     "execution_count": 6,
     "metadata": {},
     "output_type": "execute_result"
    }
   ],
   "source": [
    "# Creamos el vector de palabras\n",
    "vectorizer = CountVectorizer(binary=True)\n",
    "X = vectorizer.fit_transform(data.email)\n",
    "X.shape\n"
   ]
  },
  {
   "cell_type": "code",
   "execution_count": 7,
   "metadata": {},
   "outputs": [
    {
     "data": {
      "text/plain": [
       "(5000, 34116)"
      ]
     },
     "execution_count": 7,
     "metadata": {},
     "output_type": "execute_result"
    }
   ],
   "source": [
    "# Vamos a aplicar sobre muestreo; debido a que el dataset es desbalanceado\n",
    "sm = SMOTE(random_state=42)\n",
    "X_res, y_res = sm.fit_resample(X, data.label)\n",
    "X_res.shape\n"
   ]
  },
  {
   "cell_type": "code",
   "execution_count": 8,
   "metadata": {},
   "outputs": [
    {
     "data": {
      "text/plain": [
       "0    2500\n",
       "1    2500\n",
       "Name: label, dtype: int64"
      ]
     },
     "execution_count": 8,
     "metadata": {},
     "output_type": "execute_result"
    }
   ],
   "source": [
    "# Ahora las clases son balanceadas\n",
    "y_res.value_counts()\n"
   ]
  },
  {
   "cell_type": "code",
   "execution_count": 13,
   "metadata": {},
   "outputs": [
    {
     "data": {
      "text/plain": [
       "BernoulliNB(alpha=0.1)"
      ]
     },
     "execution_count": 13,
     "metadata": {},
     "output_type": "execute_result"
    }
   ],
   "source": [
    "# Separamos los datos en entrenamiento y prueba\n",
    "X_train, X_test, y_train, y_test = train_test_split(X_res, y_res, test_size=0.3, random_state=42, shuffle=True)\n",
    "\n",
    "# Creamos el modelo y lo entrenamos\n",
    "model = BernoulliNB(alpha=0.1)\n",
    "model.fit(X_train, y_train)"
   ]
  },
  {
   "cell_type": "code",
   "execution_count": 15,
   "metadata": {},
   "outputs": [
    {
     "name": "stdout",
     "output_type": "stream",
     "text": [
      "0.908\n"
     ]
    }
   ],
   "source": [
    "# Predecimos\n",
    "pred = model.predict(X_test)\n",
    "acc = accuracy_score(y_test, pred)\n",
    "print(acc)"
   ]
  },
  {
   "cell_type": "code",
   "execution_count": 16,
   "metadata": {},
   "outputs": [
    {
     "data": {
      "image/png": "[encoded data removed]",
      "text/plain": [
       "<Figure size 432x288 with 2 Axes>"
      ]
     },
     "metadata": {
      "needs_background": "light"
     },
     "output_type": "display_data"
    }
   ],
   "source": [
    "# Creamos la matriz de confusión\n",
    "cm = confusion_matrix(y_test, pred)\n",
    "cmd= ConfusionMatrixDisplay(cm, display_labels=['Spam', 'Not Spam'])\n",
    "cmd.plot(cmap='Reds');"
   ]
  },
  {
   "cell_type": "code",
   "execution_count": 17,
   "metadata": {},
   "outputs": [
    {
     "data": {
      "image/png": "[encoded data removed]",
      "text/plain": [
       "<Figure size 432x288 with 2 Axes>"
      ]
     },
     "metadata": {
      "needs_background": "light"
     },
     "output_type": "display_data"
    }
   ],
   "source": [
    "# Matriz de confusión en porcentajes\n",
    "cm_p = confusion_matrix(y_test, pred, normalize='all')\n",
    "cmd_p = ConfusionMatrixDisplay(cm_p, display_labels=['Spam', 'Not Spam'])\n",
    "cmd_p.plot(cmap='Reds', values_format='.2%');"
   ]
  },
  {
   "cell_type": "code",
   "execution_count": 19,
   "metadata": {},
   "outputs": [
    {
     "data": {
      "image/png": "[encoded data removed]",
      "text/plain": [
       "<Figure size 432x288 with 2 Axes>"
      ]
     },
     "metadata": {
      "needs_background": "light"
     },
     "output_type": "display_data"
    }
   ],
   "source": [
    "# Matriz de confusión en porcentajes por predicción\n",
    "cm_p = confusion_matrix(y_test, pred, normalize='true')\n",
    "cmd_p = ConfusionMatrixDisplay(cm_p, display_labels=['Spam', 'Not Spam'])\n",
    "cmd_p.plot(cmap='Reds', values_format='.2%');"
   ]
  },
  {
   "cell_type": "markdown",
   "metadata": {},
   "source": [
    "## Resultados:\n",
    "\n",
    "Como se puede observar el modelo puede detectar correctamente un 83.98% de los mensajes de Spam y un 97.95% de los mensajes No Spam, esto quiere decir que el modelo reconoce correctamente un 90.8% de los mensajes."
   ]
  }
 ],
 "metadata": {
  "interpreter": {
   "hash": "42f9bae02b619edfa973ff6558bb67b556abee0bb253b13b7b990e17b780d7a8"
  },
  "kernelspec": {
   "display_name": "Python 3.8.10 64-bit (windows store)",
   "language": "python",
   "name": "python3"
  },
  "language_info": {
   "codemirror_mode": {
    "name": "ipython",
    "version": 3
   },
   "file_extension": ".py",
   "mimetype": "text/x-python",
   "name": "python",
   "nbconvert_exporter": "python",
   "pygments_lexer": "ipython3",
   "version": "3.8.10"
  },
  "orig_nbformat": 4
 },
 "nbformat": 4,
 "nbformat_minor": 2
}
