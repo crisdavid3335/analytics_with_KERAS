{
  "nbformat": 4,
  "nbformat_minor": 0,
  "metadata": {
    "colab": {
      "name": "CNN mnist.ipynb",
      "provenance": [],
      "collapsed_sections": [],
      "include_colab_link": true
    },
    "kernelspec": {
      "display_name": "Python 3",
      "language": "python",
      "name": "python3"
    },
    "language_info": {
      "codemirror_mode": {
        "name": "ipython",
        "version": 3
      },
      "file_extension": ".py",
      "mimetype": "text/x-python",
      "name": "python",
      "nbconvert_exporter": "python",
      "pygments_lexer": "ipython3",
      "version": "3.7.3"
    },
    "widgets": {
      "application/vnd.jupyter.widget-state+json": {
        "e6d4249951fc4eb0aa618c931b7dde75": {
          "model_module": "@jupyter-widgets/controls",
          "model_name": "HBoxModel",
          "model_module_version": "1.5.0",
          "state": {
            "_view_name": "HBoxView",
            "_dom_classes": [],
            "_model_name": "HBoxModel",
            "_view_module": "@jupyter-widgets/controls",
            "_model_module_version": "1.5.0",
            "_view_count": null,
            "_view_module_version": "1.5.0",
            "box_style": "",
            "layout": "IPY_MODEL_841e456b3a18450387a1b79142c67b05",
            "_model_module": "@jupyter-widgets/controls",
            "children": [
              "IPY_MODEL_04e6247c8128433a87abfd1ee5eb6426",
              "IPY_MODEL_7188ca395e3d445f90729d88c0c03a50",
              "IPY_MODEL_7300460d305d4f3287da17e3f67d1de1"
            ]
          }
        },
        "841e456b3a18450387a1b79142c67b05": {
          "model_module": "@jupyter-widgets/base",
          "model_name": "LayoutModel",
          "model_module_version": "1.2.0",
          "state": {
            "_view_name": "LayoutView",
            "grid_template_rows": null,
            "right": null,
            "justify_content": null,
            "_view_module": "@jupyter-widgets/base",
            "overflow": null,
            "_model_module_version": "1.2.0",
            "_view_count": null,
            "flex_flow": null,
            "width": null,
            "min_width": null,
            "border": null,
            "align_items": null,
            "bottom": null,
            "_model_module": "@jupyter-widgets/base",
            "top": null,
            "grid_column": null,
            "overflow_y": null,
            "overflow_x": null,
            "grid_auto_flow": null,
            "grid_area": null,
            "grid_template_columns": null,
            "flex": null,
            "_model_name": "LayoutModel",
            "justify_items": null,
            "grid_row": null,
            "max_height": null,
            "align_content": null,
            "visibility": null,
            "align_self": null,
            "height": null,
            "min_height": null,
            "padding": null,
            "grid_auto_rows": null,
            "grid_gap": null,
            "max_width": null,
            "order": null,
            "_view_module_version": "1.2.0",
            "grid_template_areas": null,
            "object_position": null,
            "object_fit": null,
            "grid_auto_columns": null,
            "margin": null,
            "display": null,
            "left": null
          }
        },
        "04e6247c8128433a87abfd1ee5eb6426": {
          "model_module": "@jupyter-widgets/controls",
          "model_name": "HTMLModel",
          "model_module_version": "1.5.0",
          "state": {
            "_view_name": "HTMLView",
            "style": "IPY_MODEL_c7351b388237450fbdd1689e721a6973",
            "_dom_classes": [],
            "description": "",
            "_model_name": "HTMLModel",
            "placeholder": "​",
            "_view_module": "@jupyter-widgets/controls",
            "_model_module_version": "1.5.0",
            "value": "Dl Completed...: 100%",
            "_view_count": null,
            "_view_module_version": "1.5.0",
            "description_tooltip": null,
            "_model_module": "@jupyter-widgets/controls",
            "layout": "IPY_MODEL_d62a02aba864487ab20fa50d9a4befa5"
          }
        },
        "7188ca395e3d445f90729d88c0c03a50": {
          "model_module": "@jupyter-widgets/controls",
          "model_name": "FloatProgressModel",
          "model_module_version": "1.5.0",
          "state": {
            "_view_name": "ProgressView",
            "style": "IPY_MODEL_7719ada864054e35bfa41e4652e7280a",
            "_dom_classes": [],
            "description": "",
            "_model_name": "FloatProgressModel",
            "bar_style": "success",
            "max": 4,
            "_view_module": "@jupyter-widgets/controls",
            "_model_module_version": "1.5.0",
            "value": 4,
            "_view_count": null,
            "_view_module_version": "1.5.0",
            "orientation": "horizontal",
            "min": 0,
            "description_tooltip": null,
            "_model_module": "@jupyter-widgets/controls",
            "layout": "IPY_MODEL_a3ce3169af604bacb80edc03b2598249"
          }
        },
        "7300460d305d4f3287da17e3f67d1de1": {
          "model_module": "@jupyter-widgets/controls",
          "model_name": "HTMLModel",
          "model_module_version": "1.5.0",
          "state": {
            "_view_name": "HTMLView",
            "style": "IPY_MODEL_89858e2d1c9d414b92ba30009b9d79af",
            "_dom_classes": [],
            "description": "",
            "_model_name": "HTMLModel",
            "placeholder": "​",
            "_view_module": "@jupyter-widgets/controls",
            "_model_module_version": "1.5.0",
            "value": " 4/4 [00:00&lt;00:00, 14.39 file/s]",
            "_view_count": null,
            "_view_module_version": "1.5.0",
            "description_tooltip": null,
            "_model_module": "@jupyter-widgets/controls",
            "layout": "IPY_MODEL_3d82f14311e449a69bfe7232b03a57ee"
          }
        },
        "c7351b388237450fbdd1689e721a6973": {
          "model_module": "@jupyter-widgets/controls",
          "model_name": "DescriptionStyleModel",
          "model_module_version": "1.5.0",
          "state": {
            "_view_name": "StyleView",
            "_model_name": "DescriptionStyleModel",
            "description_width": "",
            "_view_module": "@jupyter-widgets/base",
            "_model_module_version": "1.5.0",
            "_view_count": null,
            "_view_module_version": "1.2.0",
            "_model_module": "@jupyter-widgets/controls"
          }
        },
        "d62a02aba864487ab20fa50d9a4befa5": {
          "model_module": "@jupyter-widgets/base",
          "model_name": "LayoutModel",
          "model_module_version": "1.2.0",
          "state": {
            "_view_name": "LayoutView",
            "grid_template_rows": null,
            "right": null,
            "justify_content": null,
            "_view_module": "@jupyter-widgets/base",
            "overflow": null,
            "_model_module_version": "1.2.0",
            "_view_count": null,
            "flex_flow": null,
            "width": null,
            "min_width": null,
            "border": null,
            "align_items": null,
            "bottom": null,
            "_model_module": "@jupyter-widgets/base",
            "top": null,
            "grid_column": null,
            "overflow_y": null,
            "overflow_x": null,
            "grid_auto_flow": null,
            "grid_area": null,
            "grid_template_columns": null,
            "flex": null,
            "_model_name": "LayoutModel",
            "justify_items": null,
            "grid_row": null,
            "max_height": null,
            "align_content": null,
            "visibility": null,
            "align_self": null,
            "height": null,
            "min_height": null,
            "padding": null,
            "grid_auto_rows": null,
            "grid_gap": null,
            "max_width": null,
            "order": null,
            "_view_module_version": "1.2.0",
            "grid_template_areas": null,
            "object_position": null,
            "object_fit": null,
            "grid_auto_columns": null,
            "margin": null,
            "display": null,
            "left": null
          }
        },
        "7719ada864054e35bfa41e4652e7280a": {
          "model_module": "@jupyter-widgets/controls",
          "model_name": "ProgressStyleModel",
          "model_module_version": "1.5.0",
          "state": {
            "_view_name": "StyleView",
            "_model_name": "ProgressStyleModel",
            "description_width": "",
            "_view_module": "@jupyter-widgets/base",
            "_model_module_version": "1.5.0",
            "_view_count": null,
            "_view_module_version": "1.2.0",
            "bar_color": null,
            "_model_module": "@jupyter-widgets/controls"
          }
        },
        "a3ce3169af604bacb80edc03b2598249": {
          "model_module": "@jupyter-widgets/base",
          "model_name": "LayoutModel",
          "model_module_version": "1.2.0",
          "state": {
            "_view_name": "LayoutView",
            "grid_template_rows": null,
            "right": null,
            "justify_content": null,
            "_view_module": "@jupyter-widgets/base",
            "overflow": null,
            "_model_module_version": "1.2.0",
            "_view_count": null,
            "flex_flow": null,
            "width": null,
            "min_width": null,
            "border": null,
            "align_items": null,
            "bottom": null,
            "_model_module": "@jupyter-widgets/base",
            "top": null,
            "grid_column": null,
            "overflow_y": null,
            "overflow_x": null,
            "grid_auto_flow": null,
            "grid_area": null,
            "grid_template_columns": null,
            "flex": null,
            "_model_name": "LayoutModel",
            "justify_items": null,
            "grid_row": null,
            "max_height": null,
            "align_content": null,
            "visibility": null,
            "align_self": null,
            "height": null,
            "min_height": null,
            "padding": null,
            "grid_auto_rows": null,
            "grid_gap": null,
            "max_width": null,
            "order": null,
            "_view_module_version": "1.2.0",
            "grid_template_areas": null,
            "object_position": null,
            "object_fit": null,
            "grid_auto_columns": null,
            "margin": null,
            "display": null,
            "left": null
          }
        },
        "89858e2d1c9d414b92ba30009b9d79af": {
          "model_module": "@jupyter-widgets/controls",
          "model_name": "DescriptionStyleModel",
          "model_module_version": "1.5.0",
          "state": {
            "_view_name": "StyleView",
            "_model_name": "DescriptionStyleModel",
            "description_width": "",
            "_view_module": "@jupyter-widgets/base",
            "_model_module_version": "1.5.0",
            "_view_count": null,
            "_view_module_version": "1.2.0",
            "_model_module": "@jupyter-widgets/controls"
          }
        },
        "3d82f14311e449a69bfe7232b03a57ee": {
          "model_module": "@jupyter-widgets/base",
          "model_name": "LayoutModel",
          "model_module_version": "1.2.0",
          "state": {
            "_view_name": "LayoutView",
            "grid_template_rows": null,
            "right": null,
            "justify_content": null,
            "_view_module": "@jupyter-widgets/base",
            "overflow": null,
            "_model_module_version": "1.2.0",
            "_view_count": null,
            "flex_flow": null,
            "width": null,
            "min_width": null,
            "border": null,
            "align_items": null,
            "bottom": null,
            "_model_module": "@jupyter-widgets/base",
            "top": null,
            "grid_column": null,
            "overflow_y": null,
            "overflow_x": null,
            "grid_auto_flow": null,
            "grid_area": null,
            "grid_template_columns": null,
            "flex": null,
            "_model_name": "LayoutModel",
            "justify_items": null,
            "grid_row": null,
            "max_height": null,
            "align_content": null,
            "visibility": null,
            "align_self": null,
            "height": null,
            "min_height": null,
            "padding": null,
            "grid_auto_rows": null,
            "grid_gap": null,
            "max_width": null,
            "order": null,
            "_view_module_version": "1.2.0",
            "grid_template_areas": null,
            "object_position": null,
            "object_fit": null,
            "grid_auto_columns": null,
            "margin": null,
            "display": null,
            "left": null
          }
        }
      }
    },
    "accelerator": "TPU"
  },
  "cells": [
    {
      "cell_type": "markdown",
      "metadata": {
        "id": "view-in-github",
        "colab_type": "text"
      },
      "source": [
        "<a href=\"https://colab.research.google.com/github/crisdavid3335/analytics_with_KERAS/blob/main/CNN_mnist.ipynb\" target=\"_parent\"><img src=\"https://colab.research.google.com/assets/colab-badge.svg\" alt=\"Open In Colab\"/></a>"
      ]
    },
    {
      "cell_type": "code",
      "metadata": {
        "id": "Rlp5wUW_FDmH"
      },
      "source": [
        "# Importing the relevant packages\n",
        "import tensorflow as tf\n",
        "import tensorflow_datasets as tfds"
      ],
      "execution_count": null,
      "outputs": []
    },
    {
      "cell_type": "markdown",
      "metadata": {
        "id": "9JZppXiLaX_g"
      },
      "source": [
        "## Downloading and preprocessing the data"
      ]
    },
    {
      "cell_type": "code",
      "metadata": {
        "id": "9S6uGLzkFDmP"
      },
      "source": [
        "BUFFER_SIZE = 70_000\n",
        "BATCH_SIZE = 128\n",
        "NUM_EPOCHS = 20"
      ],
      "execution_count": null,
      "outputs": []
    },
    {
      "cell_type": "code",
      "metadata": {
        "colab": {
          "base_uri": "https://localhost:8080/",
          "height": 205,
          "referenced_widgets": [
            "e6d4249951fc4eb0aa618c931b7dde75",
            "841e456b3a18450387a1b79142c67b05",
            "04e6247c8128433a87abfd1ee5eb6426",
            "7188ca395e3d445f90729d88c0c03a50",
            "7300460d305d4f3287da17e3f67d1de1",
            "c7351b388237450fbdd1689e721a6973",
            "d62a02aba864487ab20fa50d9a4befa5",
            "7719ada864054e35bfa41e4652e7280a",
            "a3ce3169af604bacb80edc03b2598249",
            "89858e2d1c9d414b92ba30009b9d79af",
            "3d82f14311e449a69bfe7232b03a57ee"
          ]
        },
        "id": "WmZv4DRDaX_j",
        "outputId": "c60dbf9d-8554-472f-8897-9380d03889da"
      },
      "source": [
        "mnist_dataset, mnist_info = tfds.load(name='mnist', with_info=True, as_supervised=True)"
      ],
      "execution_count": null,
      "outputs": [
        {
          "output_type": "stream",
          "name": "stdout",
          "text": [
            "\u001b[1mDownloading and preparing dataset mnist/3.0.1 (download: 11.06 MiB, generated: 21.00 MiB, total: 32.06 MiB) to /root/tensorflow_datasets/mnist/3.0.1...\u001b[0m\n"
          ]
        },
        {
          "output_type": "stream",
          "name": "stderr",
          "text": [
            "WARNING:absl:Dataset mnist is hosted on GCS. It will automatically be downloaded to your\n",
            "local data directory. If you'd instead prefer to read directly from our public\n",
            "GCS bucket (recommended if you're running on GCP), you can instead pass\n",
            "`try_gcs=True` to `tfds.load` or set `data_dir=gs://tfds-data/datasets`.\n",
            "\n"
          ]
        },
        {
          "output_type": "display_data",
          "data": {
            "application/vnd.jupyter.widget-view+json": {
              "model_id": "e6d4249951fc4eb0aa618c931b7dde75",
              "version_minor": 0,
              "version_major": 2
            },
            "text/plain": [
              "Dl Completed...:   0%|          | 0/4 [00:00<?, ? file/s]"
            ]
          },
          "metadata": {}
        },
        {
          "output_type": "stream",
          "name": "stdout",
          "text": [
            "\n",
            "\u001b[1mDataset mnist downloaded and prepared to /root/tensorflow_datasets/mnist/3.0.1. Subsequent calls will reuse this data.\u001b[0m\n"
          ]
        }
      ]
    },
    {
      "cell_type": "code",
      "metadata": {
        "id": "8Jb1hVvxaX_j"
      },
      "source": [
        "mnist_train, mnist_test = mnist_dataset['train'], mnist_dataset['test']"
      ],
      "execution_count": null,
      "outputs": []
    },
    {
      "cell_type": "code",
      "metadata": {
        "id": "2x7P37csaX_k"
      },
      "source": [
        "def scale(image, label):\n",
        "    image = tf.cast(image, tf.float32)\n",
        "    image /= 255.\n",
        "\n",
        "    return image, label"
      ],
      "execution_count": null,
      "outputs": []
    },
    {
      "cell_type": "code",
      "metadata": {
        "id": "cTnxy58RaX_k"
      },
      "source": [
        "train_and_validation_data = mnist_train.map(scale)\n",
        "test_data = mnist_test.map(scale)"
      ],
      "execution_count": null,
      "outputs": []
    },
    {
      "cell_type": "code",
      "metadata": {
        "id": "4lGjD6kUaX_l"
      },
      "source": [
        "num_validation_samples = 0.1 * mnist_info.splits['train'].num_examples\n",
        "num_validation_samples = tf.cast(num_validation_samples, tf.int64)"
      ],
      "execution_count": null,
      "outputs": []
    },
    {
      "cell_type": "code",
      "metadata": {
        "id": "q-8T4RFtaX_m"
      },
      "source": [
        "num_test_samples = mnist_info.splits['test'].num_examples\n",
        "num_test_samples = tf.cast(num_test_samples, tf.int64)"
      ],
      "execution_count": null,
      "outputs": []
    },
    {
      "cell_type": "code",
      "metadata": {
        "id": "apx42qGsaX_m"
      },
      "source": [
        "train_and_validation_data = train_and_validation_data.shuffle(BUFFER_SIZE)"
      ],
      "execution_count": null,
      "outputs": []
    },
    {
      "cell_type": "code",
      "metadata": {
        "id": "GfvpnH4-aX_n"
      },
      "source": [
        "train_data = train_and_validation_data.skip(num_validation_samples)\n",
        "validation_data = train_and_validation_data.take(num_validation_samples)"
      ],
      "execution_count": null,
      "outputs": []
    },
    {
      "cell_type": "code",
      "metadata": {
        "id": "_TV_yH-MaX_n"
      },
      "source": [
        "train_data = train_data.batch(BATCH_SIZE)\n",
        "validation_data = validation_data.batch(num_validation_samples) \n",
        "test_data = test_data.batch(num_test_samples)"
      ],
      "execution_count": null,
      "outputs": []
    },
    {
      "cell_type": "markdown",
      "metadata": {
        "id": "rnfGtpe0aX_n"
      },
      "source": [
        "## Creating the model and training it"
      ]
    },
    {
      "cell_type": "code",
      "metadata": {
        "id": "J8kDQzLYaX_o"
      },
      "source": [
        "model = tf.keras.Sequential([\n",
        "    tf.keras.layers.Conv2D(50, 5, activation='relu', input_shape=(28, 28, 1)),\n",
        "    tf.keras.layers.MaxPooling2D(pool_size=(2,2)), \n",
        "    tf.keras.layers.Conv2D(50, 3, activation='relu'),\n",
        "    tf.keras.layers.MaxPooling2D(pool_size=(2,2)), \n",
        "    tf.keras.layers.Flatten(),\n",
        "    tf.keras.layers.Dense(10)])"
      ],
      "execution_count": null,
      "outputs": []
    },
    {
      "cell_type": "code",
      "metadata": {
        "colab": {
          "base_uri": "https://localhost:8080/"
        },
        "id": "fcdA7lHEaX_o",
        "outputId": "3fbe6f24-a21e-42be-f6ec-dc5c0b78f661"
      },
      "source": [
        "model.summary(line_length = 75)"
      ],
      "execution_count": null,
      "outputs": [
        {
          "output_type": "stream",
          "name": "stdout",
          "text": [
            "Model: \"sequential\"\n",
            "___________________________________________________________________________\n",
            " Layer (type)                    Output Shape                  Param #     \n",
            "===========================================================================\n",
            " conv2d (Conv2D)                 (None, 24, 24, 50)            1300        \n",
            "                                                                           \n",
            " max_pooling2d (MaxPooling2D)    (None, 12, 12, 50)            0           \n",
            "                                                                           \n",
            " conv2d_1 (Conv2D)               (None, 10, 10, 50)            22550       \n",
            "                                                                           \n",
            " max_pooling2d_1 (MaxPooling2D)  (None, 5, 5, 50)              0           \n",
            "                                                                           \n",
            " flatten (Flatten)               (None, 1250)                  0           \n",
            "                                                                           \n",
            " dense (Dense)                   (None, 10)                    12510       \n",
            "                                                                           \n",
            "===========================================================================\n",
            "Total params: 36,360\n",
            "Trainable params: 36,360\n",
            "Non-trainable params: 0\n",
            "___________________________________________________________________________\n"
          ]
        }
      ]
    },
    {
      "cell_type": "code",
      "metadata": {
        "id": "Y87DfooMaX_p"
      },
      "source": [
        "loss_fn = tf.keras.losses.SparseCategoricalCrossentropy(from_logits=True)"
      ],
      "execution_count": null,
      "outputs": []
    },
    {
      "cell_type": "code",
      "metadata": {
        "id": "iLbsyDpTaX_q"
      },
      "source": [
        "model.compile(optimizer='adam', loss=loss_fn, metrics=['accuracy'])"
      ],
      "execution_count": null,
      "outputs": []
    },
    {
      "cell_type": "code",
      "metadata": {
        "id": "1-m1nQPwaX_r"
      },
      "source": [
        "early_stopping = tf.keras.callbacks.EarlyStopping(\n",
        "    monitor = 'val_loss',\n",
        "    mode = 'auto',    \n",
        "    min_delta = 0,\n",
        "    patience = 2,\n",
        "    verbose = 0, \n",
        "    restore_best_weights = True\n",
        ")"
      ],
      "execution_count": null,
      "outputs": []
    },
    {
      "cell_type": "code",
      "metadata": {
        "colab": {
          "base_uri": "https://localhost:8080/"
        },
        "id": "0g30BGtUaX_r",
        "outputId": "baf09a9e-9b7e-4f2c-ea20-b8b9838cfaee"
      },
      "source": [
        "model.fit(\n",
        "    train_data, \n",
        "    epochs = NUM_EPOCHS, \n",
        "    callbacks = [early_stopping], \n",
        "    validation_data = validation_data,\n",
        "    verbose = 2\n",
        ")"
      ],
      "execution_count": null,
      "outputs": [
        {
          "output_type": "stream",
          "name": "stdout",
          "text": [
            "Epoch 1/20\n",
            "422/422 - 61s - loss: 0.2673 - accuracy: 0.9215 - val_loss: 0.0819 - val_accuracy: 0.9755 - 61s/epoch - 145ms/step\n",
            "Epoch 2/20\n",
            "422/422 - 64s - loss: 0.0716 - accuracy: 0.9787 - val_loss: 0.0599 - val_accuracy: 0.9813 - 64s/epoch - 152ms/step\n",
            "Epoch 3/20\n",
            "422/422 - 63s - loss: 0.0521 - accuracy: 0.9842 - val_loss: 0.0495 - val_accuracy: 0.9855 - 63s/epoch - 150ms/step\n",
            "Epoch 4/20\n",
            "422/422 - 63s - loss: 0.0425 - accuracy: 0.9871 - val_loss: 0.0349 - val_accuracy: 0.9912 - 63s/epoch - 149ms/step\n",
            "Epoch 5/20\n",
            "422/422 - 65s - loss: 0.0355 - accuracy: 0.9894 - val_loss: 0.0305 - val_accuracy: 0.9913 - 65s/epoch - 153ms/step\n",
            "Epoch 6/20\n",
            "422/422 - 63s - loss: 0.0301 - accuracy: 0.9907 - val_loss: 0.0240 - val_accuracy: 0.9920 - 63s/epoch - 149ms/step\n",
            "Epoch 7/20\n",
            "422/422 - 64s - loss: 0.0267 - accuracy: 0.9918 - val_loss: 0.0196 - val_accuracy: 0.9938 - 64s/epoch - 151ms/step\n",
            "Epoch 8/20\n",
            "422/422 - 63s - loss: 0.0231 - accuracy: 0.9926 - val_loss: 0.0167 - val_accuracy: 0.9950 - 63s/epoch - 148ms/step\n",
            "Epoch 9/20\n",
            "422/422 - 63s - loss: 0.0203 - accuracy: 0.9938 - val_loss: 0.0120 - val_accuracy: 0.9968 - 63s/epoch - 149ms/step\n",
            "Epoch 10/20\n",
            "422/422 - 63s - loss: 0.0179 - accuracy: 0.9944 - val_loss: 0.0193 - val_accuracy: 0.9933 - 63s/epoch - 149ms/step\n",
            "Epoch 11/20\n",
            "422/422 - 64s - loss: 0.0153 - accuracy: 0.9950 - val_loss: 0.0118 - val_accuracy: 0.9968 - 64s/epoch - 151ms/step\n",
            "Epoch 12/20\n",
            "422/422 - 64s - loss: 0.0133 - accuracy: 0.9959 - val_loss: 0.0130 - val_accuracy: 0.9953 - 64s/epoch - 152ms/step\n",
            "Epoch 13/20\n",
            "422/422 - 64s - loss: 0.0126 - accuracy: 0.9960 - val_loss: 0.0065 - val_accuracy: 0.9980 - 64s/epoch - 152ms/step\n",
            "Epoch 14/20\n",
            "422/422 - 64s - loss: 0.0098 - accuracy: 0.9969 - val_loss: 0.0079 - val_accuracy: 0.9972 - 64s/epoch - 151ms/step\n",
            "Epoch 15/20\n",
            "422/422 - 64s - loss: 0.0099 - accuracy: 0.9969 - val_loss: 0.0102 - val_accuracy: 0.9973 - 64s/epoch - 151ms/step\n"
          ]
        },
        {
          "output_type": "execute_result",
          "data": {
            "text/plain": [
              "<keras.callbacks.History at 0x7f0b66120810>"
            ]
          },
          "metadata": {},
          "execution_count": 19
        }
      ]
    },
    {
      "cell_type": "markdown",
      "metadata": {
        "id": "Yr3hVItdaX_r"
      },
      "source": [
        "## Testing our model"
      ]
    },
    {
      "cell_type": "code",
      "metadata": {
        "id": "FVi7cr3UaX_r",
        "colab": {
          "base_uri": "https://localhost:8080/"
        },
        "outputId": "6697c89c-4a82-47d3-8a56-d79133e50cc4"
      },
      "source": [
        "test_loss, test_accuracy = model.evaluate(test_data)"
      ],
      "execution_count": null,
      "outputs": [
        {
          "output_type": "stream",
          "name": "stdout",
          "text": [
            "1/1 [==============================] - 3s 3s/step - loss: 0.0320 - accuracy: 0.9900\n"
          ]
        }
      ]
    },
    {
      "cell_type": "code",
      "metadata": {
        "id": "_Tqom5nGaX_s",
        "colab": {
          "base_uri": "https://localhost:8080/"
        },
        "outputId": "1a9f5cd0-bc9c-490f-f12a-dad48a6e8cde"
      },
      "source": [
        "print('Test loss: {0: .4f}. Test accuracy: {1: .2f}%'.format(test_loss, test_accuracy*100.))"
      ],
      "execution_count": null,
      "outputs": [
        {
          "output_type": "stream",
          "name": "stdout",
          "text": [
            "Test loss:  0.0320. Test accuracy:  99.00%\n"
          ]
        }
      ]
    },
    {
      "cell_type": "markdown",
      "metadata": {
        "id": "u4UJn-0RaX_s"
      },
      "source": [
        "### Plotting images and the results"
      ]
    },
    {
      "cell_type": "code",
      "metadata": {
        "id": "uuF-vxf5aX_s"
      },
      "source": [
        "import matplotlib.pyplot as plt\n",
        "import numpy as np"
      ],
      "execution_count": null,
      "outputs": []
    },
    {
      "cell_type": "code",
      "metadata": {
        "id": "btRecbvvaX_s"
      },
      "source": [
        "for images, labels in test_data.take(1):\n",
        "  images_test = images.numpy()\n",
        "  labels_test = labels.numpy()\n",
        "\n",
        "images_plot = np.reshape(images_test, (10000,28,28))"
      ],
      "execution_count": null,
      "outputs": []
    },
    {
      "cell_type": "code",
      "metadata": {
        "colab": {
          "base_uri": "https://localhost:8080/",
          "height": 157
        },
        "id": "RgfTd1-lofit",
        "outputId": "783fa9c6-20a7-4b81-dc82-75129344aefd"
      },
      "source": [
        "i = 34\n",
        "\n",
        "plt.figure(figsize = (2, 2))\n",
        "plt.axis('off')\n",
        "plt.imshow(images_plot[i-1], cmap = 'gray', aspect = 'auto')\n",
        "plt.show()\n",
        "\n",
        "\n",
        "print('Label: {}'.format(labels_test[i-1]))"
      ],
      "execution_count": null,
      "outputs": [
        {
          "output_type": "display_data",
          "data": {
            "image/png": "[encoded data removed]",
            "text/plain": [
              "<Figure size 144x144 with 1 Axes>"
            ]
          },
          "metadata": {
            "needs_background": "light"
          }
        },
        {
          "output_type": "stream",
          "name": "stdout",
          "text": [
            "Label: 7\n"
          ]
        }
      ]
    },
    {
      "cell_type": "code",
      "metadata": {
        "colab": {
          "base_uri": "https://localhost:8080/",
          "height": 322
        },
        "id": "txvPCgWTqiyk",
        "outputId": "7f7e746e-75d6-4d35-aa80-3a1f9cbe21cf"
      },
      "source": [
        "predictions = model.predict(images_test[i-1:i])\n",
        "\n",
        "probabilities = tf.nn.softmax(predictions).numpy()\n",
        "probabilities = probabilities*100\n",
        "\n",
        "plt.figure(figsize=(12,5))\n",
        "plt.bar(x=[1,2,3,4,5,6,7,8,9,10], height=probabilities[0], \n",
        "        tick_label=[\"0\", \"1\", \"2\", \"3\", \"4\", \"5\", \"6\", \"7\", \"8\", \"9\"])\n",
        "plt.show()"
      ],
      "execution_count": null,
      "outputs": [
        {
          "output_type": "display_data",
          "data": {
            "image/png": "[encoded data removed]",
            "text/plain": [
              "<Figure size 864x360 with 1 Axes>"
            ]
          },
          "metadata": {
            "needs_background": "light"
          }
        }
      ]
    }
  ]
}