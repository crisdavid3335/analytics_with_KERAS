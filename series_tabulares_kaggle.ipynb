{
  "nbformat": 4,
  "nbformat_minor": 0,
  "metadata": {
    "colab": {
      "name": "series tabulares",
      "provenance": [],
      "collapsed_sections": [],
      "mount_file_id": "1flfCEcV0ySCaVygojp6bwuErVoEwwevM",
      "authorship_tag": "ABX9TyOrwMd7Mi/mWqQNyfJamhLe",
      "include_colab_link": true
    },
    "kernelspec": {
      "name": "python3",
      "display_name": "Python 3"
    },
    "language_info": {
      "name": "python"
    },
    "accelerator": "TPU"
  },
  "cells": [
    {
      "cell_type": "markdown",
      "metadata": {
        "id": "view-in-github",
        "colab_type": "text"
      },
      "source": [
        "<a href=\"https://colab.research.google.com/github/crisdavid3335/analytics_with_KERAS/blob/main/series_tabulares_kaggle.ipynb\" target=\"_parent\"><img src=\"https://colab.research.google.com/assets/colab-badge.svg\" alt=\"Open In Colab\"/></a>"
      ]
    },
    {
      "cell_type": "code",
      "metadata": {
        "id": "IPn-Jr89jDAY"
      },
      "source": [
        "import numpy as np"
      ],
      "execution_count": null,
      "outputs": []
    },
    {
      "cell_type": "code",
      "metadata": {
        "id": "p-bcLh-hjOgw"
      },
      "source": [
        "data_train = np.genfromtxt('/content/drive/MyDrive/Colab Notebooks/train.csv',\n",
        "                           delimiter = ',',\n",
        "                           autostrip = True,\n",
        "                           max_rows = 1000000,\n",
        "                           dtype = np.str_)\n",
        "names_full_train = np.copy(data_train[:1])\n",
        "data_train = data_train[1:].astype(np.float_)"
      ],
      "execution_count": null,
      "outputs": []
    },
    {
      "cell_type": "code",
      "metadata": {
        "id": "yKUrmN8xj5Gi"
      },
      "source": [
        "data_test = np.genfromtxt('/content/drive/MyDrive/Colab Notebooks/test.csv',\n",
        "                          delimiter = ',',\n",
        "                          autostrip = True,\n",
        "                          dtype = np.str_)\n",
        "names_full_test = np.copy(data_test[:1])\n",
        "data_test = data_test[1:].astype(np.float_)"
      ],
      "execution_count": null,
      "outputs": []
    },
    {
      "cell_type": "code",
      "metadata": {
        "id": "dQs0K8rdlwoc",
        "colab": {
          "base_uri": "https://localhost:8080/"
        },
        "outputId": "86979928-c59d-4ee9-f41c-ed4924d2ad73"
      },
      "source": [
        "np.isnan(data_train).sum()"
      ],
      "execution_count": null,
      "outputs": [
        {
          "output_type": "execute_result",
          "data": {
            "text/plain": [
              "0"
            ]
          },
          "metadata": {},
          "execution_count": 4
        }
      ]
    },
    {
      "cell_type": "code",
      "metadata": {
        "colab": {
          "base_uri": "https://localhost:8080/"
        },
        "id": "2tryu1ifoKQw",
        "outputId": "27d48a08-f266-44b3-a96a-042d5eba7736"
      },
      "source": [
        "np.isnan(data_test).sum()"
      ],
      "execution_count": null,
      "outputs": [
        {
          "output_type": "execute_result",
          "data": {
            "text/plain": [
              "0"
            ]
          },
          "metadata": {},
          "execution_count": 5
        }
      ]
    },
    {
      "cell_type": "code",
      "metadata": {
        "id": "-8VziatP-AIl"
      },
      "source": [
        "x_train = data_train\n",
        "np.random.shuffle(x_train)\n",
        "y_train = x_train[:,-1].astype(np.int_)\n",
        "\n",
        "x_train = np.delete(x_train, -1, axis = 1)\n",
        "x_train = np.delete(x_train, 0, axis = 1)\n",
        "\n",
        "x_test = np.copy(data_test)\n",
        "x_test = np.delete(x_test, 0, axis = 1)"
      ],
      "execution_count": null,
      "outputs": []
    },
    {
      "cell_type": "code",
      "metadata": {
        "id": "MH1wkPKguZDb"
      },
      "source": [
        "mean = x_train.mean(axis = 0)\n",
        "x_train = x_train - mean\n",
        "std = x_train.std(axis = 0)\n",
        "x_train =  np.divide(x_train, std, where = std !=0)"
      ],
      "execution_count": null,
      "outputs": []
    },
    {
      "cell_type": "code",
      "metadata": {
        "id": "UJAmFJ3--diV"
      },
      "source": [
        "x_test = x_test - mean\n",
        "x_test = np.divide(x_test,std, where = std !=0)"
      ],
      "execution_count": null,
      "outputs": []
    },
    {
      "cell_type": "code",
      "metadata": {
        "id": "ymb2n0Nlup8z"
      },
      "source": [
        "import tensorflow.keras as keras\n",
        "from keras import layers\n",
        "from imblearn.under_sampling import NearMiss "
      ],
      "execution_count": null,
      "outputs": []
    },
    {
      "cell_type": "code",
      "metadata": {
        "colab": {
          "base_uri": "https://localhost:8080/"
        },
        "id": "6AGT27eA6Gd0",
        "outputId": "9811b415-a9a4-419a-f047-c57e6be4d6bf"
      },
      "source": [
        "np.isnan(x_test).sum()"
      ],
      "execution_count": null,
      "outputs": [
        {
          "output_type": "execute_result",
          "data": {
            "text/plain": [
              "0"
            ]
          },
          "metadata": {},
          "execution_count": 10
        }
      ]
    },
    {
      "cell_type": "code",
      "metadata": {
        "colab": {
          "base_uri": "https://localhost:8080/"
        },
        "id": "0Z-6T8Gcyg70",
        "outputId": "525d59a6-8b84-4c92-9d9f-b8d4aaa8770d"
      },
      "source": [
        "np.unique(y_train, return_counts = True)"
      ],
      "execution_count": null,
      "outputs": [
        {
          "output_type": "execute_result",
          "data": {
            "text/plain": [
              "(array([1, 2, 3, 4, 6, 7]),\n",
              " array([405735, 572252,   9597,     12,    624,  11779]))"
            ]
          },
          "metadata": {},
          "execution_count": 11
        }
      ]
    },
    {
      "cell_type": "code",
      "metadata": {
        "id": "85jtMIDa4a0j"
      },
      "source": [
        "nm = NearMiss()\n",
        "x_res, y_res = nm.fit_resample(x_train, y_train)"
      ],
      "execution_count": null,
      "outputs": []
    },
    {
      "cell_type": "code",
      "metadata": {
        "id": "vhHXPV5Gu78D"
      },
      "source": [
        "model = keras.Sequential([\n",
        "                          layers.Dense(144, activation = 'relu'),\n",
        "                          layers.Dense(112, activation = 'relu'),\n",
        "                          layers.Dense(80, activation = 'relu'),\n",
        "                          layers.Dense(8, activation = 'softmax')\n",
        "])\n",
        "\n",
        "model.compile(optimizer = keras.optimizers.RMSprop(learning_rate = 0.0005),\n",
        "              loss = 'sparse_categorical_crossentropy',\n",
        "              metrics = ['accuracy'])"
      ],
      "execution_count": null,
      "outputs": []
    },
    {
      "cell_type": "code",
      "metadata": {
        "colab": {
          "base_uri": "https://localhost:8080/"
        },
        "id": "f8T_skx0wKUL",
        "outputId": "4cd743f3-6585-4f7f-ce81-2b8c1c3da40f"
      },
      "source": [
        "history = model.fit(x_train, y_train, \n",
        "          batch_size = 512, \n",
        "          epochs = 30,\n",
        "          callbacks = keras.callbacks.EarlyStopping(monitor = 'val_loss', \n",
        "                                                    restore_best_weights = True,                                                     \n",
        "                                                    patience = 3,\n",
        "                                                    verbose = 0),\n",
        "          validation_split = 0.1)"
      ],
      "execution_count": null,
      "outputs": [
        {
          "output_type": "stream",
          "name": "stdout",
          "text": [
            "Epoch 1/30\n",
            "1758/1758 [==============================] - 14s 8ms/step - loss: 5.9516 - accuracy: 0.9304 - val_loss: 0.1189 - val_accuracy: 0.9520\n",
            "Epoch 2/30\n",
            "1758/1758 [==============================] - 13s 7ms/step - loss: 2.5045 - accuracy: 0.9533 - val_loss: 0.0980 - val_accuracy: 0.9592\n",
            "Epoch 3/30\n",
            "1758/1758 [==============================] - 14s 8ms/step - loss: 1.3084 - accuracy: 0.9575 - val_loss: 0.0966 - val_accuracy: 0.9593\n",
            "Epoch 4/30\n",
            "1758/1758 [==============================] - 13s 7ms/step - loss: 1.0280 - accuracy: 0.9598 - val_loss: 0.0950 - val_accuracy: 0.9602\n",
            "Epoch 5/30\n",
            "1758/1758 [==============================] - 13s 7ms/step - loss: 0.9257 - accuracy: 0.9611 - val_loss: 0.0969 - val_accuracy: 0.9587\n",
            "Epoch 6/30\n",
            "1758/1758 [==============================] - 13s 7ms/step - loss: 0.8823 - accuracy: 0.9618 - val_loss: 0.0832 - val_accuracy: 0.9646\n",
            "Epoch 7/30\n",
            "1758/1758 [==============================] - 13s 7ms/step - loss: 0.7948 - accuracy: 0.9625 - val_loss: 0.0868 - val_accuracy: 0.9629\n",
            "Epoch 8/30\n",
            "1758/1758 [==============================] - 13s 7ms/step - loss: 0.6222 - accuracy: 0.9630 - val_loss: 0.0825 - val_accuracy: 0.9645\n",
            "Epoch 9/30\n",
            "1758/1758 [==============================] - 13s 7ms/step - loss: 0.6152 - accuracy: 0.9638 - val_loss: 0.0811 - val_accuracy: 0.9652\n",
            "Epoch 10/30\n",
            "1758/1758 [==============================] - 13s 7ms/step - loss: 0.6303 - accuracy: 0.9640 - val_loss: 0.0795 - val_accuracy: 0.9653\n",
            "Epoch 11/30\n",
            "1758/1758 [==============================] - 13s 7ms/step - loss: 0.6798 - accuracy: 0.9643 - val_loss: 0.0824 - val_accuracy: 0.9641\n",
            "Epoch 12/30\n",
            "1758/1758 [==============================] - 13s 7ms/step - loss: 0.5782 - accuracy: 0.9647 - val_loss: 0.0793 - val_accuracy: 0.9657\n",
            "Epoch 13/30\n",
            "1758/1758 [==============================] - 13s 8ms/step - loss: 0.6965 - accuracy: 0.9650 - val_loss: 0.0792 - val_accuracy: 0.9659\n",
            "Epoch 14/30\n",
            "1758/1758 [==============================] - 13s 7ms/step - loss: 0.5572 - accuracy: 0.9651 - val_loss: 0.0804 - val_accuracy: 0.9650\n",
            "Epoch 15/30\n",
            "1758/1758 [==============================] - 13s 7ms/step - loss: 0.4638 - accuracy: 0.9652 - val_loss: 0.0805 - val_accuracy: 0.9652\n",
            "Epoch 16/30\n",
            "1758/1758 [==============================] - 13s 7ms/step - loss: 0.4805 - accuracy: 0.9655 - val_loss: 0.0793 - val_accuracy: 0.9654\n"
          ]
        }
      ]
    },
    {
      "cell_type": "code",
      "metadata": {
        "colab": {
          "base_uri": "https://localhost:8080/"
        },
        "id": "P-EiD9w3xrfd",
        "outputId": "ea6d0050-9d11-4f32-edc3-a283eeeaae26"
      },
      "source": [
        "model.evaluate(x_train[:50000], y_train[:50000])"
      ],
      "execution_count": null,
      "outputs": [
        {
          "output_type": "stream",
          "name": "stdout",
          "text": [
            "1563/1563 [==============================] - 3s 2ms/step - loss: 16.1944 - accuracy: 0.9088\n"
          ]
        },
        {
          "output_type": "execute_result",
          "data": {
            "text/plain": [
              "[16.19440269470215, 0.9088000059127808]"
            ]
          },
          "metadata": {},
          "execution_count": 42
        }
      ]
    },
    {
      "cell_type": "code",
      "metadata": {
        "id": "KjVr75srBNv2"
      },
      "source": [
        "summit = model.predict(x_test)"
      ],
      "execution_count": null,
      "outputs": []
    },
    {
      "cell_type": "code",
      "metadata": {
        "colab": {
          "base_uri": "https://localhost:8080/"
        },
        "id": "crJVUst3CqFP",
        "outputId": "58d94a39-14ae-4b22-8be2-82410106efae"
      },
      "source": [
        "summit.shape"
      ],
      "execution_count": null,
      "outputs": [
        {
          "output_type": "execute_result",
          "data": {
            "text/plain": [
              "(1000000, 8)"
            ]
          },
          "metadata": {},
          "execution_count": 44
        }
      ]
    },
    {
      "cell_type": "code",
      "metadata": {
        "id": "9fX1ZwQyC65n"
      },
      "source": [
        "results = np.zeros((1000000,))\n",
        "for i in range(0, summit.shape[0]):\n",
        "  results[i] = np.argmax(summit[i])"
      ],
      "execution_count": null,
      "outputs": []
    },
    {
      "cell_type": "code",
      "metadata": {
        "id": "OqTOEz6qE5uO"
      },
      "source": [
        "results = results.astype(np.int_)"
      ],
      "execution_count": null,
      "outputs": []
    },
    {
      "cell_type": "code",
      "metadata": {
        "id": "CKoL1nT1Fqne"
      },
      "source": [
        "id = data_test[:, 0]"
      ],
      "execution_count": null,
      "outputs": []
    },
    {
      "cell_type": "code",
      "metadata": {
        "id": "1zX0lUYXF_0q"
      },
      "source": [
        "import pandas as pd\n",
        "\n",
        "submission = pd.DataFrame({\"Id\": id})\n",
        "submission['Cover_Type'] = results\n",
        "submission['Id'] = submission['Id'].astype('int32')\n",
        "submission.to_csv('C:\\\\Users\\\\Christian\\\\Desktop\\\\submission.csv', index=False)"
      ],
      "execution_count": null,
      "outputs": []
    }
  ]
}