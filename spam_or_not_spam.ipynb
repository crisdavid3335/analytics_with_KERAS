{
 "cells": [
  {
   "cell_type": "markdown",
   "metadata": {},
   "source": [
    "# Filtrado de Spam en Emails\n",
    "\n",
    "Los clasificadores Bayesianos ingenuos son herramientas de gran utilidad para la construcción de sistemas de clasificación. Esta es una aplicación de modelos probabilisticos para la deteccion de mensajes de Spam en Emails."
   ]
  },
  {
   "cell_type": "code",
   "execution_count": 1,
   "metadata": {},
   "outputs": [],
   "source": [
    "# Cargamos las librerias necesarias\n",
    "import matplotlib.pyplot as plt\n",
    "import numpy as np\n",
    "import pandas as pd\n",
    "from imblearn.over_sampling import SMOTE\n",
    "from nltk.stem.porter import PorterStemmer\n",
    "from sklearn.feature_extraction.text import CountVectorizer\n",
    "from sklearn.metrics import (ConfusionMatrixDisplay, accuracy_score,\n",
    "                             confusion_matrix)\n",
    "from sklearn.model_selection import train_test_split\n",
    "from sklearn.naive_bayes import BernoulliNB\n"
   ]
  },
  {
   "cell_type": "code",
   "execution_count": 2,
   "metadata": {},
   "outputs": [
    {
     "data": {
      "text/html": [
       "<div>\n",
       "<style scoped>\n",
       "    .dataframe tbody tr th:only-of-type {\n",
       "        vertical-align: middle;\n",
       "    }\n",
       "\n",
       "    .dataframe tbody tr th {\n",
       "        vertical-align: top;\n",
       "    }\n",
       "\n",
       "    .dataframe thead th {\n",
       "        text-align: right;\n",
       "    }\n",
       "</style>\n",
       "<table border=\"1\" class=\"dataframe\">\n",
       "  <thead>\n",
       "    <tr style=\"text-align: right;\">\n",
       "      <th></th>\n",
       "      <th>text</th>\n",
       "      <th>spam</th>\n",
       "    </tr>\n",
       "  </thead>\n",
       "  <tbody>\n",
       "    <tr>\n",
       "      <th>0</th>\n",
       "      <td>Subject: naturally irresistible your corporate...</td>\n",
       "      <td>1</td>\n",
       "    </tr>\n",
       "    <tr>\n",
       "      <th>1</th>\n",
       "      <td>Subject: the stock trading gunslinger  fanny i...</td>\n",
       "      <td>1</td>\n",
       "    </tr>\n",
       "    <tr>\n",
       "      <th>2</th>\n",
       "      <td>Subject: unbelievable new homes made easy  im ...</td>\n",
       "      <td>1</td>\n",
       "    </tr>\n",
       "    <tr>\n",
       "      <th>3</th>\n",
       "      <td>Subject: 4 color printing special  request add...</td>\n",
       "      <td>1</td>\n",
       "    </tr>\n",
       "    <tr>\n",
       "      <th>4</th>\n",
       "      <td>Subject: do not have money , get software cds ...</td>\n",
       "      <td>1</td>\n",
       "    </tr>\n",
       "  </tbody>\n",
       "</table>\n",
       "</div>"
      ],
      "text/plain": [
       "                                                text  spam\n",
       "0  Subject: naturally irresistible your corporate...     1\n",
       "1  Subject: the stock trading gunslinger  fanny i...     1\n",
       "2  Subject: unbelievable new homes made easy  im ...     1\n",
       "3  Subject: 4 color printing special  request add...     1\n",
       "4  Subject: do not have money , get software cds ...     1"
      ]
     },
     "execution_count": 2,
     "metadata": {},
     "output_type": "execute_result"
    }
   ],
   "source": [
    "# Cargamos el dataset\n",
    "data = pd.read_csv(\"C:/Users/crisd/OneDrive/Escritorio/libros/project/emails.csv\",\n",
    "                   usecols=[\"text\", \"spam\"])\n",
    "\n",
    "# Limpiamos el dataset de los valores nulos\n",
    "data.dropna(inplace=True)\n",
    "\n",
    "# Cambiamos los tipos de datos de las columnas\n",
    "data['text'] = data['text'].astype(str)\n",
    "data['spam'] = data['spam'].astype(int)\n",
    "\n",
    "# Mostramos el dataset\n",
    "data.head()\n"
   ]
  },
  {
   "cell_type": "code",
   "execution_count": 3,
   "metadata": {},
   "outputs": [
    {
     "data": {
      "text/plain": [
       "(5726, 2)"
      ]
     },
     "execution_count": 3,
     "metadata": {},
     "output_type": "execute_result"
    }
   ],
   "source": [
    "# Mostramos el tamaño del dataset\n",
    "data.shape\n"
   ]
  },
  {
   "cell_type": "code",
   "execution_count": 4,
   "metadata": {},
   "outputs": [
    {
     "data": {
      "text/plain": [
       "0    4359\n",
       "1    1367\n",
       "Name: spam, dtype: int64"
      ]
     },
     "execution_count": 4,
     "metadata": {},
     "output_type": "execute_result"
    }
   ],
   "source": [
    "# Mostramos el numero de mensajes spam y no spam\n",
    "data.spam.value_counts()\n"
   ]
  },
  {
   "cell_type": "code",
   "execution_count": 5,
   "metadata": {},
   "outputs": [
    {
     "data": {
      "image/png": "[encoded data removed]",
      "text/plain": [
       "<Figure size 720x360 with 1 Axes>"
      ]
     },
     "metadata": {
      "needs_background": "light"
     },
     "output_type": "display_data"
    }
   ],
   "source": [
    "# Mostramos el numero de mensajes spam y no spam en un grafico\n",
    "prop = (data.spam.value_counts() / len(data))*100\n",
    "plt.figure(figsize=(10, 5))\n",
    "data.spam.value_counts().plot.barh()\n",
    "plt.suptitle(f\"Mensajes Spam {prop[0]:.2f}%\\nMensajes No Spam {prop[1]:.2f}%\",\n",
    "             fontsize=13, y=0.97)\n",
    "plt.title(\"Número de mensajes spam y no spam\",\n",
    "          fontsize=20, y=1.15)\n",
    "plt.xlabel(\"Numero de mensajes\")\n",
    "plt.ylabel(\"Tipo de mensaje\")\n",
    "plt.yticks(range(2), ['Spam', 'No spam'])\n",
    "plt.show()\n"
   ]
  },
  {
   "cell_type": "code",
   "execution_count": 6,
   "metadata": {},
   "outputs": [
    {
     "data": {
      "text/html": [
       "<div>\n",
       "<style scoped>\n",
       "    .dataframe tbody tr th:only-of-type {\n",
       "        vertical-align: middle;\n",
       "    }\n",
       "\n",
       "    .dataframe tbody tr th {\n",
       "        vertical-align: top;\n",
       "    }\n",
       "\n",
       "    .dataframe thead th {\n",
       "        text-align: right;\n",
       "    }\n",
       "</style>\n",
       "<table border=\"1\" class=\"dataframe\">\n",
       "  <thead>\n",
       "    <tr style=\"text-align: right;\">\n",
       "      <th></th>\n",
       "      <th>text</th>\n",
       "      <th>spam</th>\n",
       "      <th>txt_stm</th>\n",
       "    </tr>\n",
       "  </thead>\n",
       "  <tbody>\n",
       "    <tr>\n",
       "      <th>0</th>\n",
       "      <td>Subject: naturally irresistible your corporate...</td>\n",
       "      <td>1</td>\n",
       "      <td>subject: natur irresist your corpor ident lt i...</td>\n",
       "    </tr>\n",
       "    <tr>\n",
       "      <th>1</th>\n",
       "      <td>Subject: the stock trading gunslinger  fanny i...</td>\n",
       "      <td>1</td>\n",
       "      <td>subject: the stock trade gunsling fanni is mer...</td>\n",
       "    </tr>\n",
       "    <tr>\n",
       "      <th>2</th>\n",
       "      <td>Subject: unbelievable new homes made easy  im ...</td>\n",
       "      <td>1</td>\n",
       "      <td>subject: unbeliev new home made easi im want t...</td>\n",
       "    </tr>\n",
       "    <tr>\n",
       "      <th>3</th>\n",
       "      <td>Subject: 4 color printing special  request add...</td>\n",
       "      <td>1</td>\n",
       "      <td>subject: 4 color print special request addit i...</td>\n",
       "    </tr>\n",
       "    <tr>\n",
       "      <th>4</th>\n",
       "      <td>Subject: do not have money , get software cds ...</td>\n",
       "      <td>1</td>\n",
       "      <td>subject: do not have money , get softwar cd fr...</td>\n",
       "    </tr>\n",
       "  </tbody>\n",
       "</table>\n",
       "</div>"
      ],
      "text/plain": [
       "                                                text  spam  \\\n",
       "0  Subject: naturally irresistible your corporate...     1   \n",
       "1  Subject: the stock trading gunslinger  fanny i...     1   \n",
       "2  Subject: unbelievable new homes made easy  im ...     1   \n",
       "3  Subject: 4 color printing special  request add...     1   \n",
       "4  Subject: do not have money , get software cds ...     1   \n",
       "\n",
       "                                             txt_stm  \n",
       "0  subject: natur irresist your corpor ident lt i...  \n",
       "1  subject: the stock trade gunsling fanni is mer...  \n",
       "2  subject: unbeliev new home made easi im want t...  \n",
       "3  subject: 4 color print special request addit i...  \n",
       "4  subject: do not have money , get softwar cd fr...  "
      ]
     },
     "execution_count": 6,
     "metadata": {},
     "output_type": "execute_result"
    }
   ],
   "source": [
    "# Vamos a reducir cada palabra del dataset a su raíz\n",
    "stemmer = PorterStemmer()\n",
    "data['txt_stm'] = data.text.apply(lambda x: ' '.join(\n",
    "    [stemmer.stem(word) for word in x.split()]))\n",
    "data.head()\n"
   ]
  },
  {
   "cell_type": "code",
   "execution_count": 7,
   "metadata": {},
   "outputs": [
    {
     "data": {
      "text/plain": [
       "(5726, 7542)"
      ]
     },
     "execution_count": 7,
     "metadata": {},
     "output_type": "execute_result"
    }
   ],
   "source": [
    "# Vamos a crear un vector de palabras para cada mensaje\n",
    "cv = CountVectorizer(analyzer='word',               # Analizador de palabras\n",
    "                     lowercase=True,                # Convertir a minúsculas\n",
    "                     stop_words='english',          # Eliminar palabras vacías (stopwords)\n",
    "                     token_pattern=r'(?u)\\b\\w+\\b',  # Expresión regular para tokenizar\n",
    "                     binary=True,                   # Solo uno o cero\n",
    "                     max_df=1.0,                    # Eliminar palabras que aparecen muchas veces\n",
    "                     min_df=5)                      # Eliminar palabras que aparecen pocas veces\n",
    "\n",
    "# Aplicamos el vectorizador a los mensajes\n",
    "X = cv.fit_transform(data.txt_stm)\n",
    "X.shape\n"
   ]
  },
  {
   "cell_type": "code",
   "execution_count": 8,
   "metadata": {},
   "outputs": [
    {
     "data": {
      "text/plain": [
       "7542"
      ]
     },
     "execution_count": 8,
     "metadata": {},
     "output_type": "execute_result"
    }
   ],
   "source": [
    "# Vamos a generar el dictorio de palabras\n",
    "vocabulary = cv.get_feature_names_out()\n",
    "len(vocabulary)\n"
   ]
  },
  {
   "cell_type": "code",
   "execution_count": 9,
   "metadata": {},
   "outputs": [
    {
     "data": {
      "text/plain": [
       "array(['0', '00', '000', '0000', '0000108729', '0001', '001', '0011',\n",
       "       '002', '0044', '0061', '007', '01', '0100', '011'], dtype=object)"
      ]
     },
     "execution_count": 9,
     "metadata": {},
     "output_type": "execute_result"
    }
   ],
   "source": [
    "# Mostramos las primeras palabras del dictorio\n",
    "vocabulary[:15]\n"
   ]
  },
  {
   "cell_type": "code",
   "execution_count": 10,
   "metadata": {},
   "outputs": [
    {
     "data": {
      "text/plain": [
       "(5726, 6785)"
      ]
     },
     "execution_count": 10,
     "metadata": {},
     "output_type": "execute_result"
    }
   ],
   "source": [
    "# Mejoramos el vectorizador para que solo se vea el texto\n",
    "cv = CountVectorizer(analyzer='word',                               # Analizador de palabras\n",
    "                        lowercase=True,                             # Convertir a minúsculas\n",
    "                        stop_words='english',                       # Eliminar palabras vacías (stopwords)\n",
    "                        token_pattern=r'(?u)\\b[a-zA-Z][a-zA-Z]+\\b', # Expresión regular para tokenizar (solo letras)\n",
    "                        binary=True,                                # Solo uno o cero\n",
    "                        max_df=1.0,                                 # Eliminar palabras que aparecen muchas veces\n",
    "                        min_df=5)                                   # Eliminar palabras que aparecen pocas veces\n",
    "\n",
    "# Aplicamos el vectorizador a los mensajes\n",
    "X = cv.fit_transform(data.txt_stm)\n",
    "X.shape\n"
   ]
  },
  {
   "cell_type": "code",
   "execution_count": 11,
   "metadata": {},
   "outputs": [
    {
     "data": {
      "text/plain": [
       "array(['aa', 'aaa', 'aaron', 'ab', 'abandon', 'abel', 'abil', 'abl',\n",
       "       'abov', 'abreast', 'abroad', 'absenc', 'absolut', 'absorb',\n",
       "       'abstract'], dtype=object)"
      ]
     },
     "execution_count": 11,
     "metadata": {},
     "output_type": "execute_result"
    }
   ],
   "source": [
    "# Generamos el nuevo dictorio de palabras\n",
    "vocabulary = cv.get_feature_names_out()\n",
    "vocabulary[:15]\n"
   ]
  },
  {
   "cell_type": "code",
   "execution_count": 12,
   "metadata": {},
   "outputs": [
    {
     "name": "stdout",
     "output_type": "stream",
     "text": [
      "Org: subject: natur irresist your corpor ident lt is realli hard to recollect a compani : the market is full of suqgest and the inform isoverwhelminq ; but a good catchi logo , stylish statloneri and outstand websit will make the task much easier . we do not promis that havinq order a iogo your compani will automaticaili becom a world ieader : it isguit ciear that without good product , effect busi organ and practic aim it will be hotat nowaday market ; but we do promis that your market effort will becom much more effect . here is the list of clear benefit : creativ : hand - made , origin logo , special done to reflect your distinct compani imag . conveni : logo and stationeri are provid in all format ; easi - to - use content manag system letsyou chang your websit content and even it structur . prompt : you will see logo draft within three busi day . afford : your market break - through shouldn ' t make gap in your budget . 100 % satisfact guarante : we provid unlimit amount of chang with no extra fee for you to be surethat you will love the result of thi collabor . have a look at our portfolio _ _ _ _ _ _ _ _ _ _ _ _ _ _ _ _ _ _ _ _ _ _ _ _ _ _ _ _ _ _ _ _ _ _ _ _ _ _ _ _ _ _ _ _ _ _ _ _ _ _ _ _ not interest . . . _ _ _ _ _ _ _ _ _ _ _ _ _ _ _ _ _ _ _ _ _ _ _ _ _ _ _ _ _ _ _ _ _ _ _ _ _ _ _ _ _ _ _ _ _ _ _ _ _ _ _ _\n",
      "Mod: afford aim automaticaili becom benefit break budget busi catchi chang ciear clear collabor compani content conveni corpor creativ day distinct draft easi easier effect effort extra fee format gap good guarante hand hard havinq hotat ident ieader imag inform iogo isguit isoverwhelminq letsyou list logo look love lt make manag market natur nowaday order organ origin outstand portfolio practic product promis prompt provid realli recollect reflect result satisfact shouldn special stationeri statloneri structur stylish subject suqgest surethat task thi unlimit use websit world\n",
      "\n"
     ]
    }
   ],
   "source": [
    "# Generamos un transformador de palabras para reconstruir el texto y ver que palabras se eliminaron\n",
    "def inverse_transform(X, vocabulary, index):\n",
    "    as_list = X[index, :].toarray().tolist()\n",
    "    docs = []\n",
    "    for i in index:\n",
    "        k = [vocabulary[iword]\n",
    "             for iword, ifreq in enumerate(as_list[i]) if ifreq > 0]\n",
    "        docs += [k]\n",
    "    return docs\n",
    "\n",
    "\n",
    "for i, x in enumerate(inverse_transform(X, vocabulary, range(1))):\n",
    "    print('Org:', data.txt_stm[i])\n",
    "    print('Mod:', ' '.join(x))\n",
    "    print('')\n"
   ]
  },
  {
   "cell_type": "code",
   "execution_count": 13,
   "metadata": {},
   "outputs": [
    {
     "data": {
      "text/plain": [
       "0    76.48%\n",
       "1    23.52%\n",
       "Name: spam, dtype: object"
      ]
     },
     "execution_count": 13,
     "metadata": {},
     "output_type": "execute_result"
    }
   ],
   "source": [
    "# Separamos los datos en entrenamiento y prueba\n",
    "X_train, X_test, y_train, y_test = train_test_split(\n",
    "    X, data.spam, test_size=0.2, random_state=42, shuffle=True)\n",
    "\n",
    "# Mostramos la distribución de los objetivos en el entrenamiento\n",
    "y_train.value_counts(normalize=True).mul(100).round(2).astype(str) + '%'\n"
   ]
  },
  {
   "cell_type": "code",
   "execution_count": 14,
   "metadata": {},
   "outputs": [],
   "source": [
    "# Vamos a balancear los datos de entrenamiento\n",
    "sm = SMOTE(random_state=42)\n",
    "X_train, y_train = sm.fit_resample(X_train, y_train)\n"
   ]
  },
  {
   "cell_type": "code",
   "execution_count": 15,
   "metadata": {},
   "outputs": [
    {
     "data": {
      "text/plain": [
       "0    50.0%\n",
       "1    50.0%\n",
       "Name: spam, dtype: object"
      ]
     },
     "execution_count": 15,
     "metadata": {},
     "output_type": "execute_result"
    }
   ],
   "source": [
    "# Volvemos a mostrar la distribución de los objetivos en el entrenamiento\n",
    "y_train.value_counts(normalize=True).mul(100).round(2).astype(str) + '%'\n"
   ]
  },
  {
   "cell_type": "code",
   "execution_count": 16,
   "metadata": {},
   "outputs": [
    {
     "data": {
      "text/plain": [
       "BernoulliNB(alpha=1.1)"
      ]
     },
     "execution_count": 16,
     "metadata": {},
     "output_type": "execute_result"
    }
   ],
   "source": [
    "# Creamos el modelo\n",
    "model = BernoulliNB(alpha=1.1)\n",
    "\n",
    "# Entrenamos el modelo\n",
    "model.fit(X_train, y_train)\n"
   ]
  },
  {
   "cell_type": "code",
   "execution_count": 17,
   "metadata": {},
   "outputs": [
    {
     "name": "stdout",
     "output_type": "stream",
     "text": [
      "Accuracy, in test: 0.866%\n",
      "Accuracy, in train: 0.928%\n"
     ]
    }
   ],
   "source": [
    "# Predecimos los resultados\n",
    "y_hat = model.predict(X_test)\n",
    "\n",
    "# Evaluamos el modelo\n",
    "acc_test = accuracy_score(y_test, y_hat)\n",
    "acc_train = accuracy_score(y_train, model.predict(X_train))\n",
    "print(f\"Accuracy, in test: {acc_test:.3f}%\")\n",
    "print(f'Accuracy, in train: {acc_train:.3f}%')"
   ]
  },
  {
   "cell_type": "code",
   "execution_count": 18,
   "metadata": {},
   "outputs": [
    {
     "data": {
      "image/png": "[encoded data removed]",
      "text/plain": [
       "<Figure size 720x720 with 2 Axes>"
      ]
     },
     "metadata": {
      "needs_background": "light"
     },
     "output_type": "display_data"
    }
   ],
   "source": [
    "# Creamos la matriz de confusion\n",
    "cm = confusion_matrix(y_test, y_hat, normalize='true')\n",
    "\n",
    "# Mostramos la matriz de confusion\n",
    "fig, ax = plt.subplots(figsize=(10, 10))\n",
    "cm_g = ConfusionMatrixDisplay(cm, display_labels=['Spam', 'No spam'])\n",
    "cm_g.plot(cmap='Reds', values_format='.2%', ax=ax )\n",
    "plt.title(\"Matriz de confusion\", fontsize=15, y=1.03)\n",
    "plt.tick_params(labelsize=13)\n",
    "plt.show()"
   ]
  }
 ],
 "metadata": {
  "interpreter": {
   "hash": "42f9bae02b619edfa973ff6558bb67b556abee0bb253b13b7b990e17b780d7a8"
  },
  "kernelspec": {
   "display_name": "Python 3.8.10 64-bit (windows store)",
   "language": "python",
   "name": "python3"
  },
  "language_info": {
   "codemirror_mode": {
    "name": "ipython",
    "version": 3
   },
   "file_extension": ".py",
   "mimetype": "text/x-python",
   "name": "python",
   "nbconvert_exporter": "python",
   "pygments_lexer": "ipython3",
   "version": "3.8.10"
  },
  "orig_nbformat": 4
 },
 "nbformat": 4,
 "nbformat_minor": 2
}
